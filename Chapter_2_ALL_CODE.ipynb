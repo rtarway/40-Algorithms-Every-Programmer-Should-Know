{
  "cells": [
    {
      "cell_type": "markdown",
      "metadata": {
        "id": "view-in-github",
        "colab_type": "text"
      },
      "source": [
        "<a href=\"https://colab.research.google.com/github/rtarway/40-Algorithms-Every-Programmer-Should-Know/blob/rtarway-learning/Chapter_2_ALL_CODE.ipynb\" target=\"_parent\"><img src=\"https://colab.research.google.com/assets/colab-badge.svg\" alt=\"Open In Colab\"/></a>"
      ]
    },
    {
      "cell_type": "markdown",
      "metadata": {
        "id": "B-Ade-bUe1ic"
      },
      "source": [
        "# CHAPTER 2. Data Structures Used in Algorithms"
      ]
    },
    {
      "cell_type": "markdown",
      "metadata": {
        "id": "f8oATGJve1ii"
      },
      "source": [
        "# 1 Exploring data structures in Python\n",
        "\n",
        "In any language data structures are used to store and manipulate complex data. In Python, the data structures are a storage containers to manage, organize and search data in an efficient way. They are used to store a group of data elements called collection, that need to be stored and processed together. In Python, there are five various data structures that can be used to store collections:\n"
      ]
    },
    {
      "cell_type": "markdown",
      "metadata": {
        "collapsed": true,
        "id": "taxuxqLFe1il"
      },
      "source": [
        "## 1.1 Lists\n",
        "In Python, a list is the  main data structure used to store a mutable sequence of elements. The sequence of data elements stored in the list need not be of the same type.\n",
        "\n",
        "To create a list, the data elements need to be enclosed in [ ] and they need to be separated by a comma. For example, the following code creates four data elements together which are of different types."
      ]
    },
    {
      "cell_type": "code",
      "execution_count": null,
      "metadata": {
        "id": "38wP7xfde1in"
      },
      "outputs": [],
      "source": [
        "aList = [\"John\", 33,\"Toronto\", True]"
      ]
    },
    {
      "cell_type": "code",
      "execution_count": null,
      "metadata": {
        "colab": {
          "base_uri": "https://localhost:8080/"
        },
        "id": "W0cpDep-e1ip",
        "outputId": "70f50099-2d30-4a4d-9de8-ab8fd0de324a"
      },
      "outputs": [
        {
          "output_type": "execute_result",
          "data": {
            "text/plain": [
              "['John', 33, 'Toronto', True]"
            ]
          },
          "metadata": {},
          "execution_count": 2
        }
      ],
      "source": [
        "aList"
      ]
    },
    {
      "cell_type": "code",
      "execution_count": null,
      "metadata": {
        "colab": {
          "base_uri": "https://localhost:8080/"
        },
        "id": "KRChL8SZe1ir",
        "outputId": "e5d049f2-72d1-4331-8478-30d72c38b7e7"
      },
      "outputs": [
        {
          "output_type": "execute_result",
          "data": {
            "text/plain": [
              "list"
            ]
          },
          "metadata": {},
          "execution_count": 3
        }
      ],
      "source": [
        "type(aList)"
      ]
    },
    {
      "cell_type": "code",
      "execution_count": 1,
      "metadata": {
        "id": "glDiDguOe1ir"
      },
      "outputs": [],
      "source": [
        "bin_colors=['Red','Green','Blue','Yellow','Pink']"
      ]
    },
    {
      "cell_type": "markdown",
      "metadata": {
        "id": "tyDqZHN1e1is"
      },
      "source": [
        "### 1.1.2 Slicing\n",
        "If we want to retrieve a subset of the elements of a list by specifying a range of indexes, it is called slicing.  Following code can be used to create a slice of the list:"
      ]
    },
    {
      "cell_type": "code",
      "execution_count": null,
      "metadata": {
        "colab": {
          "base_uri": "https://localhost:8080/"
        },
        "id": "tMEyJX3oe1iu",
        "outputId": "24c0bfa5-6ab6-4849-b244-6aa6ae58e068"
      },
      "outputs": [
        {
          "output_type": "execute_result",
          "data": {
            "text/plain": [
              "['Red', 'Green']"
            ]
          },
          "metadata": {},
          "execution_count": 5
        }
      ],
      "source": [
        "bin_colors[0:2]"
      ]
    },
    {
      "cell_type": "code",
      "execution_count": null,
      "metadata": {
        "colab": {
          "base_uri": "https://localhost:8080/",
          "height": 35
        },
        "id": "BNOnNW97e1iu",
        "outputId": "94821542-4929-457f-c4ca-5941d64b7faa"
      },
      "outputs": [
        {
          "output_type": "execute_result",
          "data": {
            "text/plain": [
              "'Green'"
            ],
            "application/vnd.google.colaboratory.intrinsic+json": {
              "type": "string"
            }
          },
          "metadata": {},
          "execution_count": 6
        }
      ],
      "source": [
        "bin_colors[1]"
      ]
    },
    {
      "cell_type": "code",
      "execution_count": null,
      "metadata": {
        "colab": {
          "base_uri": "https://localhost:8080/"
        },
        "id": "nhpBoiMfe1iw",
        "outputId": "ab180772-c0ce-44d4-efe0-7d870cb8feac"
      },
      "outputs": [
        {
          "output_type": "execute_result",
          "data": {
            "text/plain": [
              "['Blue', 'Yellow']"
            ]
          },
          "metadata": {},
          "execution_count": 7
        }
      ],
      "source": [
        "bin_colors[2:]"
      ]
    },
    {
      "cell_type": "code",
      "execution_count": null,
      "metadata": {
        "colab": {
          "base_uri": "https://localhost:8080/"
        },
        "id": "TJxC7jJZe1ix",
        "outputId": "dd8cb7d5-b643-493c-fb67-ba0ff4919ab1"
      },
      "outputs": [
        {
          "output_type": "execute_result",
          "data": {
            "text/plain": [
              "['Red', 'Green']"
            ]
          },
          "metadata": {},
          "execution_count": 8
        }
      ],
      "source": [
        "bin_colors[:2]"
      ]
    },
    {
      "cell_type": "markdown",
      "metadata": {
        "id": "4MxjkuVGe1ix"
      },
      "source": [
        "### 1.1.3 Negative Indices\n",
        " In Python we also have negative indices which count from the end of the list. This is demonstrated in the following code:"
      ]
    },
    {
      "cell_type": "code",
      "execution_count": null,
      "metadata": {
        "colab": {
          "base_uri": "https://localhost:8080/"
        },
        "id": "5JJpTzVVe1iy",
        "outputId": "77cbf6bc-80fe-4e87-b08a-e62f8b857775"
      },
      "outputs": [
        {
          "output_type": "execute_result",
          "data": {
            "text/plain": [
              "['Red', 'Green', 'Blue']"
            ]
          },
          "metadata": {},
          "execution_count": 9
        }
      ],
      "source": [
        "bin_colors[:-1]"
      ]
    },
    {
      "cell_type": "code",
      "execution_count": null,
      "metadata": {
        "colab": {
          "base_uri": "https://localhost:8080/"
        },
        "id": "8Teq9pG4e1iy",
        "outputId": "882f693b-0ca6-46e0-c3da-35abca2a7d01"
      },
      "outputs": [
        {
          "output_type": "execute_result",
          "data": {
            "text/plain": [
              "['Red', 'Green']"
            ]
          },
          "metadata": {},
          "execution_count": 10
        }
      ],
      "source": [
        "bin_colors[:-2]"
      ]
    },
    {
      "cell_type": "code",
      "execution_count": null,
      "metadata": {
        "colab": {
          "base_uri": "https://localhost:8080/"
        },
        "id": "y_EE7DPve1iz",
        "outputId": "841d2b66-d317-40a5-ea96-0b274976f17d"
      },
      "outputs": [
        {
          "output_type": "execute_result",
          "data": {
            "text/plain": [
              "['Blue']"
            ]
          },
          "metadata": {},
          "execution_count": 11
        }
      ],
      "source": [
        "bin_colors[-2:-1]"
      ]
    },
    {
      "cell_type": "markdown",
      "metadata": {
        "id": "4WcF5KKhe1iz"
      },
      "source": [
        "### 1.1.4 Nesting\n",
        "An element of a list can be of a simple data type or a complex data type. This allows nesting in lists. For iterative and recursive algorithms, this provides important capabilities. "
      ]
    },
    {
      "cell_type": "code",
      "execution_count": null,
      "metadata": {
        "id": "JdEVpEyJe1i0"
      },
      "outputs": [],
      "source": [
        "a = [1,2,[100,200,300],6]"
      ]
    },
    {
      "cell_type": "code",
      "execution_count": null,
      "metadata": {
        "colab": {
          "base_uri": "https://localhost:8080/"
        },
        "id": "SaUAVWs2e1i0",
        "outputId": "b603ff9c-bea6-4e35-e325-5e29716459c0"
      },
      "outputs": [
        {
          "output_type": "execute_result",
          "data": {
            "text/plain": [
              "300"
            ]
          },
          "metadata": {},
          "execution_count": 14
        }
      ],
      "source": [
        "max(a[2])"
      ]
    },
    {
      "cell_type": "code",
      "execution_count": null,
      "metadata": {
        "colab": {
          "base_uri": "https://localhost:8080/"
        },
        "id": "u5dO6QvXe1i1",
        "outputId": "936f85c9-a1ac-4c2c-9f35-a51fb77a1ad2"
      },
      "outputs": [
        {
          "output_type": "execute_result",
          "data": {
            "text/plain": [
              "200"
            ]
          },
          "metadata": {},
          "execution_count": 15
        }
      ],
      "source": [
        "a[2][1]"
      ]
    },
    {
      "cell_type": "markdown",
      "metadata": {
        "id": "u2Arhj_Ie1i2"
      },
      "source": [
        "### 1.1.5 Iteration"
      ]
    },
    {
      "cell_type": "code",
      "execution_count": null,
      "metadata": {
        "colab": {
          "base_uri": "https://localhost:8080/"
        },
        "id": "t94q1l-Ie1i2",
        "outputId": "5cbcf1e7-90dd-41f1-c2bc-7a0fd6adcb1e"
      },
      "outputs": [
        {
          "output_type": "stream",
          "name": "stdout",
          "text": [
            "Red Square\n",
            "Green Square\n",
            "Blue Square\n",
            "Yellow Square\n"
          ]
        }
      ],
      "source": [
        "for aColor in bin_colors:\n",
        "    print(aColor+ \" Square\")"
      ]
    },
    {
      "cell_type": "markdown",
      "metadata": {
        "id": "xdkpTyRIe1i2"
      },
      "source": [
        "### 1.1.6 Lambda\n",
        "There are a bunch of lambda functions that can be used on lists. They are specifically important in the context of algorithms and provides the ability to create a function on-the-fly. Sometimes in literature, they are also called anonymous functions. This section demonstrates its use :\n",
        "\n",
        "##### Filtering data: \n",
        "To filter the data, first, we define a predicate which is a function that inputs a single argument and returns a boolean value. Following code demonstrates its use:\n"
      ]
    },
    {
      "cell_type": "code",
      "source": [
        "from google.colab import drive\n",
        "drive.mount('/content/drive')"
      ],
      "metadata": {
        "colab": {
          "base_uri": "https://localhost:8080/"
        },
        "id": "6vWLuW9JglqB",
        "outputId": "583e8231-e49d-4093-a3e5-0ff3a61755d3"
      },
      "execution_count": null,
      "outputs": [
        {
          "output_type": "stream",
          "name": "stdout",
          "text": [
            "Mounted at /content/drive\n"
          ]
        }
      ]
    },
    {
      "cell_type": "code",
      "execution_count": null,
      "metadata": {
        "colab": {
          "base_uri": "https://localhost:8080/"
        },
        "id": "COD0L6Dge1i3",
        "outputId": "af4ae9cd-6bd1-4b26-97aa-b1eae1973305"
      },
      "outputs": [
        {
          "output_type": "execute_result",
          "data": {
            "text/plain": [
              "[200, 300, 1000]"
            ]
          },
          "metadata": {},
          "execution_count": 17
        }
      ],
      "source": [
        "list(filter(lambda x: x > 100, [-5, 200, 300, -10, 10, 1000]))"
      ]
    },
    {
      "cell_type": "markdown",
      "metadata": {
        "id": "7J6alhA4e1i3"
      },
      "source": [
        "##### Data transformation: \n",
        "    map() function can be used for data transformation using a lambda function. The example is as follows:"
      ]
    },
    {
      "cell_type": "code",
      "execution_count": null,
      "metadata": {
        "colab": {
          "base_uri": "https://localhost:8080/"
        },
        "id": "-E56kB1te1i4",
        "outputId": "f7b460c1-4c61-4437-9eec-965079541dc1"
      },
      "outputs": [
        {
          "output_type": "execute_result",
          "data": {
            "text/plain": [
              "[121, 484, 1089, 1936, 3025]"
            ]
          },
          "metadata": {},
          "execution_count": 18
        }
      ],
      "source": [
        "list(map(lambda x: x ** 2, [11, 22, 33, 44,55]))"
      ]
    },
    {
      "cell_type": "markdown",
      "metadata": {
        "id": "hP8iFct4e1i4"
      },
      "source": [
        "##### Data Aggregation: \n",
        "For data aggregation, the reduce() function can be used which recursively runs a function to pairs of values on each element of the list: "
      ]
    },
    {
      "cell_type": "code",
      "execution_count": null,
      "metadata": {
        "colab": {
          "base_uri": "https://localhost:8080/"
        },
        "id": "r-3f3eC5e1i4",
        "outputId": "ee271bf4-2590-427d-dca6-f8d0a3431824"
      },
      "outputs": [
        {
          "output_type": "stream",
          "name": "stdout",
          "text": [
            "The result of data aggregation is 270\n"
          ]
        }
      ],
      "source": [
        "from functools import reduce\n",
        "def doSum(x1,x2):\n",
        "    return x1+x2\n",
        "x = reduce(doSum, [100, 122, 33, 4, 5, 6])\n",
        "print (f\"The result of data aggregation is {x}\")"
      ]
    },
    {
      "cell_type": "markdown",
      "metadata": {
        "id": "Nta68iF7e1i4"
      },
      "source": [
        "##### Range Function:\n",
        "The range function can be used to easily generate a large list of numbers.  It is used to auto-populate sequences of numbers in a list.\n",
        "\n",
        "The range function is simple to use. We can use it by just specifying the number of elements we want in the list. By default it starts from zero and increment by one."
      ]
    },
    {
      "cell_type": "markdown",
      "metadata": {
        "id": "Z4bTyP1ce1i5"
      },
      "source": [
        "## Tuples\n",
        "The second data structure that can be used to store a collection is tuple. In contrast to list, tuples are immutable(read-only) data structures. Tuples consist of several elements surrounded by ( ).\n",
        "\n",
        "Like lists, elements within a tuple can be of different types. They also allow complex data types for their elements. So there can be a tuple within a tuple providing a way to create nested data structure. Capability to create nested data structures is especially useful in iterative and recursive algorithms.\n",
        "\n",
        "Following code demonstrate how to create tuples"
      ]
    },
    {
      "cell_type": "code",
      "execution_count": null,
      "metadata": {
        "id": "9WNuUamPe1i5",
        "outputId": "dfc51001-655a-4718-d314-3f974325bd07"
      },
      "outputs": [
        {
          "name": "stdout",
          "output_type": "stream",
          "text": [
            "The second element of the tuple is Green\n"
          ]
        }
      ],
      "source": [
        "bin_colors=('Red','Green','Blue','Yellow')\n",
        "print(f\"The second element of the tuple is {bin_colors[1]}\")"
      ]
    },
    {
      "cell_type": "code",
      "execution_count": null,
      "metadata": {
        "id": "JqAXccz7e1i5",
        "outputId": "6642da11-3041-43ab-b1b3-94f2554188b4"
      },
      "outputs": [
        {
          "name": "stdout",
          "output_type": "stream",
          "text": [
            "The elements after thrid element onwards are ('Blue', 'Yellow')\n"
          ]
        }
      ],
      "source": [
        "print(f\"The elements after thrid element onwards are {bin_colors[2:]}\")"
      ]
    },
    {
      "cell_type": "markdown",
      "metadata": {
        "id": "POb0yKfve1i6"
      },
      "source": [
        "Let us define nested tuple data structure"
      ]
    },
    {
      "cell_type": "code",
      "execution_count": null,
      "metadata": {
        "id": "eUWztQtNe1i6",
        "outputId": "47f1351e-5eb0-42ae-a51b-998991cf1629"
      },
      "outputs": [
        {
          "name": "stdout",
          "output_type": "stream",
          "text": [
            "The maximum value of the inner tuple 300\n"
          ]
        }
      ],
      "source": [
        "nested_tuple = (1,2,(100,200,300),6)\n",
        "print(f\"The maximum value of the inner tuple {max(nested_tuple[2])}\")"
      ]
    },
    {
      "cell_type": "markdown",
      "metadata": {
        "id": "RoNun1Oae1i6"
      },
      "source": [
        "## 1.2 Dictionary \n",
        "To create a simple dictionary that assigns colors to various variables, the key-value pairs need to be enclosed in { }. For example, the following code creates a simple dictionary consisting of three key-value pairs:"
      ]
    },
    {
      "cell_type": "code",
      "execution_count": null,
      "metadata": {
        "id": "743MINHde1i6"
      },
      "outputs": [],
      "source": [
        "bin_colors ={\n",
        "  \"manual_color\": \"Yellow\",\n",
        "  \"approved_color\": \"Green\",\n",
        "  \"refused_color\": \"Red\"\n",
        "}"
      ]
    },
    {
      "cell_type": "code",
      "execution_count": null,
      "metadata": {
        "id": "un-AXYvSe1i7",
        "outputId": "9029603b-5a56-403e-be49-dee9b1c59aea"
      },
      "outputs": [
        {
          "name": "stdout",
          "output_type": "stream",
          "text": [
            "{'manual_color': 'Yellow', 'approved_color': 'Green', 'refused_color': 'Red'}\n"
          ]
        }
      ],
      "source": [
        "print(bin_colors)"
      ]
    },
    {
      "cell_type": "code",
      "execution_count": null,
      "metadata": {
        "id": "uAn6Qxice1i7",
        "outputId": "46b0a224-27cf-4569-c986-a52191340ff3"
      },
      "outputs": [
        {
          "data": {
            "text/plain": [
              "'Green'"
            ]
          },
          "execution_count": 24,
          "metadata": {},
          "output_type": "execute_result"
        }
      ],
      "source": [
        "bin_colors.get('approved_color')"
      ]
    },
    {
      "cell_type": "code",
      "execution_count": null,
      "metadata": {
        "id": "4oyblhdPe1i8",
        "outputId": "a6f7ad05-fbd2-49ad-83b8-227a9dfbf209"
      },
      "outputs": [
        {
          "data": {
            "text/plain": [
              "'Green'"
            ]
          },
          "execution_count": 25,
          "metadata": {},
          "output_type": "execute_result"
        }
      ],
      "source": [
        "bin_colors['approved_color']"
      ]
    },
    {
      "cell_type": "code",
      "execution_count": null,
      "metadata": {
        "id": "TN1VZYzZe1i8"
      },
      "outputs": [],
      "source": [
        "bin_colors['approved_color']=\"Purple\""
      ]
    },
    {
      "cell_type": "code",
      "execution_count": null,
      "metadata": {
        "id": "NEs2bjOqe1i9",
        "outputId": "061a9960-e069-4785-ea65-e35e16debf45"
      },
      "outputs": [
        {
          "name": "stdout",
          "output_type": "stream",
          "text": [
            "{'manual_color': 'Yellow', 'approved_color': 'Purple', 'refused_color': 'Red'}\n"
          ]
        }
      ],
      "source": [
        "print(bin_colors)"
      ]
    },
    {
      "cell_type": "markdown",
      "metadata": {
        "collapsed": true,
        "id": "oqEQAohGe1i9"
      },
      "source": [
        "## 1.3 Set\n",
        "A set is defined as a collection of elements which can be of different types. The elements are enclosed with { }. For example, have a look at the following code block:"
      ]
    },
    {
      "cell_type": "code",
      "execution_count": null,
      "metadata": {
        "id": "hgM8nwDze1i9",
        "outputId": "04e7a675-9035-4242-b7d6-684f027467cb"
      },
      "outputs": [
        {
          "name": "stdout",
          "output_type": "stream",
          "text": [
            "{'leaves', 'grass'}\n"
          ]
        }
      ],
      "source": [
        "green = {'grass', 'leaves'}\n",
        "print(green)"
      ]
    },
    {
      "cell_type": "code",
      "execution_count": null,
      "metadata": {
        "id": "9BYbl4xVe1i9"
      },
      "outputs": [],
      "source": [
        "yellow = {'dandelions', 'fire hydrant', 'leaves'}\n",
        "red = {'fire hydrant', 'blood', 'rose', 'leaves'}"
      ]
    },
    {
      "cell_type": "code",
      "execution_count": null,
      "metadata": {
        "id": "bbIGYI4We1i-",
        "outputId": "4ef9896a-857e-423c-ddf1-d9a448819213"
      },
      "outputs": [
        {
          "name": "stdout",
          "output_type": "stream",
          "text": [
            "The union of yellow and red sets is {'rose', 'dandelions', 'blood', 'fire hydrant', 'leaves'}\n"
          ]
        }
      ],
      "source": [
        "print(f\"The union of yellow and red sets is {yellow|red}\")"
      ]
    },
    {
      "cell_type": "code",
      "execution_count": null,
      "metadata": {
        "id": "8ejnVrMxe1i-",
        "outputId": "b3679c4a-caca-410b-ad29-54878e608973"
      },
      "outputs": [
        {
          "name": "stdout",
          "output_type": "stream",
          "text": [
            "The intersaction of yellow and red is {'fire hydrant', 'leaves'}\n"
          ]
        }
      ],
      "source": [
        "print(f\"The intersaction of yellow and red is {yellow&red}\")"
      ]
    },
    {
      "cell_type": "markdown",
      "metadata": {
        "id": "bwOxaqEle1i-"
      },
      "source": [
        "## 1.4 DataFrame\n",
        "DataFrame is a data structure used to store tabular data available in Python's pandas package. It is one of the most important data structures for algorithm and is used to process traditional structured data.  \n",
        "Now let us represent this by a DataFrame\n",
        "\n",
        "A simple DataFrame can be created by using the following code. "
      ]
    },
    {
      "cell_type": "code",
      "execution_count": null,
      "metadata": {
        "id": "zTGThHWLe1i_",
        "outputId": "1e7f7cb8-d79d-479b-f792-dac2abd80c80"
      },
      "outputs": [
        {
          "name": "stdout",
          "output_type": "stream",
          "text": [
            "  id    name  age  decision\n",
            "0  1   Fares   32      True\n",
            "1  2   Elena   23     False\n",
            "2  3  Steven   40      True\n"
          ]
        }
      ],
      "source": [
        "import pandas as pd\n",
        "df = pd.DataFrame([\n",
        "    ['1', 'Fares', 32, True],\n",
        "    ['2', 'Elena', 23, False],\n",
        "    ['3', 'Steven', 40, True]])\n",
        "df.columns = ['id', 'name', 'age', 'decision']\n",
        "print(df)"
      ]
    },
    {
      "cell_type": "markdown",
      "metadata": {
        "id": "wPbCygwae1i_"
      },
      "source": [
        "### 1.4.1 Column Selection"
      ]
    },
    {
      "cell_type": "markdown",
      "metadata": {
        "id": "FX-mFWeIe1jA"
      },
      "source": [
        "The values of name and age columns are "
      ]
    },
    {
      "cell_type": "code",
      "execution_count": null,
      "metadata": {
        "id": "6u8yzW1Ve1jA",
        "outputId": "f07ce537-4392-459d-b35e-52b2e2c23c66"
      },
      "outputs": [
        {
          "data": {
            "text/html": [
              "<div>\n",
              "<style scoped>\n",
              "    .dataframe tbody tr th:only-of-type {\n",
              "        vertical-align: middle;\n",
              "    }\n",
              "\n",
              "    .dataframe tbody tr th {\n",
              "        vertical-align: top;\n",
              "    }\n",
              "\n",
              "    .dataframe thead th {\n",
              "        text-align: right;\n",
              "    }\n",
              "</style>\n",
              "<table border=\"1\" class=\"dataframe\">\n",
              "  <thead>\n",
              "    <tr style=\"text-align: right;\">\n",
              "      <th></th>\n",
              "      <th>name</th>\n",
              "      <th>age</th>\n",
              "    </tr>\n",
              "  </thead>\n",
              "  <tbody>\n",
              "    <tr>\n",
              "      <th>0</th>\n",
              "      <td>Fares</td>\n",
              "      <td>32</td>\n",
              "    </tr>\n",
              "    <tr>\n",
              "      <th>1</th>\n",
              "      <td>Elena</td>\n",
              "      <td>23</td>\n",
              "    </tr>\n",
              "    <tr>\n",
              "      <th>2</th>\n",
              "      <td>Steven</td>\n",
              "      <td>40</td>\n",
              "    </tr>\n",
              "  </tbody>\n",
              "</table>\n",
              "</div>"
            ],
            "text/plain": [
              "     name  age\n",
              "0   Fares   32\n",
              "1   Elena   23\n",
              "2  Steven   40"
            ]
          },
          "execution_count": 33,
          "metadata": {},
          "output_type": "execute_result"
        }
      ],
      "source": [
        "df[['name','age']]"
      ]
    },
    {
      "cell_type": "markdown",
      "metadata": {
        "id": "exjwDPqie1jB"
      },
      "source": [
        "The positioning of a column is deterministic in a data frame. Fourth column can be retrieved by its position as follows:"
      ]
    },
    {
      "cell_type": "code",
      "execution_count": null,
      "metadata": {
        "id": "bw7dpU1oe1jB",
        "outputId": "96021434-d1f8-45f3-d902-56124087aff5"
      },
      "outputs": [
        {
          "data": {
            "text/plain": [
              "0     True\n",
              "1    False\n",
              "2     True\n",
              "Name: decision, dtype: bool"
            ]
          },
          "execution_count": 34,
          "metadata": {},
          "output_type": "execute_result"
        }
      ],
      "source": [
        "df.iloc[:,3] "
      ]
    },
    {
      "cell_type": "markdown",
      "metadata": {
        "id": "htosVyIEe1jB"
      },
      "source": [
        "### 1.4.2 Row Selection"
      ]
    },
    {
      "cell_type": "markdown",
      "metadata": {
        "id": "G8lPj9VRe1jB"
      },
      "source": [
        "Each row in DataFrame corresponds to a data-point in our problem space. We need to perform row selection if we want to create a subset of the data elements we have in our problem space. This subset can be created by using one of the two methods\n",
        "\n",
        "By specifying their position \n",
        "By specifying a filter\n",
        "A subset of rows can be retrieved by its position as follows:"
      ]
    },
    {
      "cell_type": "code",
      "execution_count": null,
      "metadata": {
        "id": "KnGQftAne1jC",
        "outputId": "30532a73-0cba-4dc5-9ef5-2943d58f150f"
      },
      "outputs": [
        {
          "data": {
            "text/html": [
              "<div>\n",
              "<style scoped>\n",
              "    .dataframe tbody tr th:only-of-type {\n",
              "        vertical-align: middle;\n",
              "    }\n",
              "\n",
              "    .dataframe tbody tr th {\n",
              "        vertical-align: top;\n",
              "    }\n",
              "\n",
              "    .dataframe thead th {\n",
              "        text-align: right;\n",
              "    }\n",
              "</style>\n",
              "<table border=\"1\" class=\"dataframe\">\n",
              "  <thead>\n",
              "    <tr style=\"text-align: right;\">\n",
              "      <th></th>\n",
              "      <th>id</th>\n",
              "      <th>name</th>\n",
              "      <th>age</th>\n",
              "      <th>decision</th>\n",
              "    </tr>\n",
              "  </thead>\n",
              "  <tbody>\n",
              "    <tr>\n",
              "      <th>1</th>\n",
              "      <td>2</td>\n",
              "      <td>Elena</td>\n",
              "      <td>23</td>\n",
              "      <td>False</td>\n",
              "    </tr>\n",
              "    <tr>\n",
              "      <th>2</th>\n",
              "      <td>3</td>\n",
              "      <td>Steven</td>\n",
              "      <td>40</td>\n",
              "      <td>True</td>\n",
              "    </tr>\n",
              "  </tbody>\n",
              "</table>\n",
              "</div>"
            ],
            "text/plain": [
              "  id    name  age  decision\n",
              "1  2   Elena   23     False\n",
              "2  3  Steven   40      True"
            ]
          },
          "execution_count": 35,
          "metadata": {},
          "output_type": "execute_result"
        }
      ],
      "source": [
        "df.iloc[1:3,:]"
      ]
    },
    {
      "cell_type": "markdown",
      "metadata": {
        "id": "gsbpZIzde1jC"
      },
      "source": [
        "To create a subset by specifying the filter, we need to use one or more columns to define the selection criterion. For example, a subset of data elements can be selected by this method as follows:"
      ]
    },
    {
      "cell_type": "code",
      "execution_count": null,
      "metadata": {
        "id": "z4k4CPpFe1jC",
        "outputId": "fb868e2a-777c-4444-cb08-3e08bb6a253b"
      },
      "outputs": [
        {
          "data": {
            "text/html": [
              "<div>\n",
              "<style scoped>\n",
              "    .dataframe tbody tr th:only-of-type {\n",
              "        vertical-align: middle;\n",
              "    }\n",
              "\n",
              "    .dataframe tbody tr th {\n",
              "        vertical-align: top;\n",
              "    }\n",
              "\n",
              "    .dataframe thead th {\n",
              "        text-align: right;\n",
              "    }\n",
              "</style>\n",
              "<table border=\"1\" class=\"dataframe\">\n",
              "  <thead>\n",
              "    <tr style=\"text-align: right;\">\n",
              "      <th></th>\n",
              "      <th>id</th>\n",
              "      <th>name</th>\n",
              "      <th>age</th>\n",
              "      <th>decision</th>\n",
              "    </tr>\n",
              "  </thead>\n",
              "  <tbody>\n",
              "    <tr>\n",
              "      <th>0</th>\n",
              "      <td>1</td>\n",
              "      <td>Fares</td>\n",
              "      <td>32</td>\n",
              "      <td>True</td>\n",
              "    </tr>\n",
              "    <tr>\n",
              "      <th>2</th>\n",
              "      <td>3</td>\n",
              "      <td>Steven</td>\n",
              "      <td>40</td>\n",
              "      <td>True</td>\n",
              "    </tr>\n",
              "  </tbody>\n",
              "</table>\n",
              "</div>"
            ],
            "text/plain": [
              "  id    name  age  decision\n",
              "0  1   Fares   32      True\n",
              "2  3  Steven   40      True"
            ]
          },
          "execution_count": 36,
          "metadata": {},
          "output_type": "execute_result"
        }
      ],
      "source": [
        "df[df.age>30]"
      ]
    },
    {
      "cell_type": "code",
      "execution_count": null,
      "metadata": {
        "id": "FdUW4EbUe1jD",
        "outputId": "4505e8e0-9cfd-43b2-fa58-b2ec2c58867a"
      },
      "outputs": [
        {
          "data": {
            "text/html": [
              "<div>\n",
              "<style scoped>\n",
              "    .dataframe tbody tr th:only-of-type {\n",
              "        vertical-align: middle;\n",
              "    }\n",
              "\n",
              "    .dataframe tbody tr th {\n",
              "        vertical-align: top;\n",
              "    }\n",
              "\n",
              "    .dataframe thead th {\n",
              "        text-align: right;\n",
              "    }\n",
              "</style>\n",
              "<table border=\"1\" class=\"dataframe\">\n",
              "  <thead>\n",
              "    <tr style=\"text-align: right;\">\n",
              "      <th></th>\n",
              "      <th>id</th>\n",
              "      <th>name</th>\n",
              "      <th>age</th>\n",
              "      <th>decision</th>\n",
              "    </tr>\n",
              "  </thead>\n",
              "  <tbody>\n",
              "    <tr>\n",
              "      <th>0</th>\n",
              "      <td>1</td>\n",
              "      <td>Fares</td>\n",
              "      <td>32</td>\n",
              "      <td>True</td>\n",
              "    </tr>\n",
              "  </tbody>\n",
              "</table>\n",
              "</div>"
            ],
            "text/plain": [
              "  id   name  age  decision\n",
              "0  1  Fares   32      True"
            ]
          },
          "execution_count": 37,
          "metadata": {},
          "output_type": "execute_result"
        }
      ],
      "source": [
        "df[(df.age<35)&(df.decision==True)]"
      ]
    },
    {
      "cell_type": "markdown",
      "metadata": {
        "id": "Y7b5Gs9Ne1jD"
      },
      "source": [
        "# 2 Stack\n",
        "Stack is a linear data structure to store one dimensional list. It can store items either in Last-In First-Out (LIFO) or First-In Last-Out (FILO) manner. The defining characteristic of a stack is way elements are added and removed from it. A new element is added at one end and an element is removed from that end only.\n",
        "\n",
        "Following are the operations related to stack:\n",
        "\n",
        "isEmpty: Returns true if stack is empty\n",
        "push: Adds a new element.\n",
        "pop: It returns the element added most recently and removes it.\n",
        "\n",
        "Let us create a class named Stack in Python, where we will define all the operations related to stack class. The code of this class will be as following:\n"
      ]
    },
    {
      "cell_type": "code",
      "execution_count": null,
      "metadata": {
        "id": "XTrBq7qne1jD"
      },
      "outputs": [],
      "source": [
        "class Stack:\n",
        "     def __init__(self):\n",
        "         self.items = []\n",
        "     def isEmpty(self):\n",
        "         return self.items == []\n",
        "     def push(self, item):\n",
        "         self.items.append(item)\n",
        "     def pop(self):\n",
        "         return self.items.pop()\n",
        "     def peek(self):\n",
        "         return self.items[len(self.items)-1]\n",
        "     def size(self):\n",
        "         return len(self.items)"
      ]
    },
    {
      "cell_type": "markdown",
      "metadata": {
        "id": "h5f2v7WIe1jE"
      },
      "source": [
        "To push four elements to the stack following code can be used:"
      ]
    },
    {
      "cell_type": "markdown",
      "metadata": {
        "id": "dyu5b6Hce1jE"
      },
      "source": [
        "## Populate the stack"
      ]
    },
    {
      "cell_type": "code",
      "execution_count": null,
      "metadata": {
        "id": "qIC-gMtpe1jE"
      },
      "outputs": [],
      "source": [
        "stack=Stack()\n",
        "stack.push('Red')\n",
        "stack.push('Green')\n",
        "stack.push(\"Blue\")\n",
        "stack.push(\"Yellow\")"
      ]
    },
    {
      "cell_type": "markdown",
      "metadata": {
        "id": "hTD_vfYEe1jF"
      },
      "source": [
        "### Pop"
      ]
    },
    {
      "cell_type": "code",
      "execution_count": null,
      "metadata": {
        "id": "Ry5IGe9we1jF",
        "outputId": "a5280077-33a8-4e0f-9c58-c8f5deef62e1"
      },
      "outputs": [
        {
          "data": {
            "text/plain": [
              "'Yellow'"
            ]
          },
          "execution_count": 40,
          "metadata": {},
          "output_type": "execute_result"
        }
      ],
      "source": [
        "stack.pop()"
      ]
    },
    {
      "cell_type": "code",
      "execution_count": null,
      "metadata": {
        "id": "0_JJo3mYe1jG",
        "outputId": "84e6d47f-292f-414b-ab75-d63236e13dcc"
      },
      "outputs": [
        {
          "data": {
            "text/plain": [
              "False"
            ]
          },
          "execution_count": 41,
          "metadata": {},
          "output_type": "execute_result"
        }
      ],
      "source": [
        "stack.isEmpty()"
      ]
    },
    {
      "cell_type": "code",
      "execution_count": null,
      "metadata": {
        "id": "mtfnSteue1jG"
      },
      "outputs": [],
      "source": [
        "colors = ['Red']"
      ]
    },
    {
      "cell_type": "code",
      "execution_count": null,
      "metadata": {
        "id": "otK0FeUhe1jH"
      },
      "outputs": [],
      "source": [
        "colors.append('Green')\n",
        "colors.append('Yellow')\n",
        "colors.append('Blue')"
      ]
    },
    {
      "cell_type": "code",
      "execution_count": null,
      "metadata": {
        "id": "miwdSUske1jH",
        "outputId": "62089a1e-f6d7-4219-c160-d8781ec755c8"
      },
      "outputs": [
        {
          "data": {
            "text/plain": [
              "['Red', 'Green', 'Yellow', 'Blue']"
            ]
          },
          "execution_count": 44,
          "metadata": {},
          "output_type": "execute_result"
        }
      ],
      "source": [
        "colors"
      ]
    },
    {
      "cell_type": "markdown",
      "metadata": {
        "id": "tGfckXhKe1jH"
      },
      "source": [
        "# Queue\n",
        "Like stack, queue stores n elements in a single-dimensional structure. The elements are added and removed in First-In First-Out (FIFO) format. One end of the queue is called rear and the other one is called the front. The elements are removed from the front, and the operation is called dequeue.  The elements are added at the rear and the operation is called enqueue.\n",
        "\n",
        "The queue shown in the preceding figure can be implemented by using the following code:"
      ]
    },
    {
      "cell_type": "code",
      "execution_count": null,
      "metadata": {
        "id": "JZlXSpwEe1jH"
      },
      "outputs": [],
      "source": [
        "class Queue(object):\n",
        "   def __init__(self):\n",
        "      self.items = []\n",
        "   def isEmpty(self):\n",
        "      return self.items == []\n",
        "   def enqueue(self, item):\n",
        "       self.items.insert(0,item)\n",
        "   def dequeue(self):\n",
        "      return self.items.pop()\n",
        "   def size(self):\n",
        "      return len(self.items)"
      ]
    },
    {
      "cell_type": "code",
      "execution_count": null,
      "metadata": {
        "id": "tVt1k-Pxe1jI"
      },
      "outputs": [],
      "source": [
        "queue = Queue()"
      ]
    },
    {
      "cell_type": "code",
      "execution_count": null,
      "metadata": {
        "id": "nxh0wio9e1jI"
      },
      "outputs": [],
      "source": [
        "queue.enqueue(\"Red\")"
      ]
    },
    {
      "cell_type": "code",
      "execution_count": null,
      "metadata": {
        "id": "0-egQ-yze1jI"
      },
      "outputs": [],
      "source": [
        "queue.enqueue('Green')"
      ]
    },
    {
      "cell_type": "code",
      "execution_count": null,
      "metadata": {
        "id": "eCci5Lnve1jI"
      },
      "outputs": [],
      "source": [
        "queue.enqueue('Blue')"
      ]
    },
    {
      "cell_type": "code",
      "execution_count": null,
      "metadata": {
        "id": "QRc8GF4se1jI"
      },
      "outputs": [],
      "source": [
        "queue.enqueue('Yellow')"
      ]
    },
    {
      "cell_type": "code",
      "execution_count": null,
      "metadata": {
        "id": "trQUlby3e1jI",
        "outputId": "9ebf1187-6104-40f8-9dad-f7c9b2531263"
      },
      "outputs": [
        {
          "name": "stdout",
          "output_type": "stream",
          "text": [
            "Size of queue is 4\n"
          ]
        }
      ],
      "source": [
        "print(f\"Size of queue is {queue.size()}\")"
      ]
    },
    {
      "cell_type": "code",
      "execution_count": null,
      "metadata": {
        "id": "BG1bLn7Qe1jJ",
        "outputId": "712fa1e9-ced9-4ba0-a9c9-3161a21b1ec1"
      },
      "outputs": [
        {
          "name": "stdout",
          "output_type": "stream",
          "text": [
            "Red\n"
          ]
        }
      ],
      "source": [
        "print(queue.dequeue())"
      ]
    },
    {
      "cell_type": "code",
      "execution_count": null,
      "metadata": {
        "id": "3VshOpYte1jJ"
      },
      "outputs": [],
      "source": [
        ""
      ]
    }
  ],
  "metadata": {
    "kernelspec": {
      "display_name": "Python 3",
      "language": "python",
      "name": "python3"
    },
    "language_info": {
      "codemirror_mode": {
        "name": "ipython",
        "version": 3
      },
      "file_extension": ".py",
      "mimetype": "text/x-python",
      "name": "python",
      "nbconvert_exporter": "python",
      "pygments_lexer": "ipython3",
      "version": "3.7.3"
    },
    "colab": {
      "name": "Chapter_2_ALL_CODE.ipynb",
      "provenance": [],
      "collapsed_sections": [
        "4WcF5KKhe1iz",
        "u2Arhj_Ie1i2",
        "xdkpTyRIe1i2",
        "wPbCygwae1i_",
        "htosVyIEe1jB",
        "hTD_vfYEe1jF"
      ],
      "include_colab_link": true
    }
  },
  "nbformat": 4,
  "nbformat_minor": 0
}